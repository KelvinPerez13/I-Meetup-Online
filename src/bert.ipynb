{
 "cells": [
  {
   "cell_type": "code",
   "execution_count": 2,
   "metadata": {
    "ExecuteTime": {
     "end_time": "2020-05-27T16:00:06.223206Z",
     "start_time": "2020-05-27T16:00:05.246822Z"
    }
   },
   "outputs": [],
   "source": [
    "from transformers import AutoModel, AutoTokenizer"
   ]
  },
  {
   "cell_type": "code",
   "execution_count": 61,
   "metadata": {
    "ExecuteTime": {
     "end_time": "2020-05-27T22:58:10.127072Z",
     "start_time": "2020-05-27T22:58:01.155220Z"
    }
   },
   "outputs": [],
   "source": [
    "from transformers import BertForMaskedLM\n",
    "tokenizer = AutoTokenizer.from_pretrained('neuralmind/bert-base-portuguese-cased')\n",
    "model = BertForMaskedLM.from_pretrained(\"neuralmind/bert-base-portuguese-cased\")"
   ]
  },
  {
   "cell_type": "code",
   "execution_count": 30,
   "metadata": {
    "ExecuteTime": {
     "end_time": "2020-05-27T16:27:22.113905Z",
     "start_time": "2020-05-27T16:27:22.103533Z"
    }
   },
   "outputs": [],
   "source": [
    "model =    model.to(device)"
   ]
  },
  {
   "cell_type": "code",
   "execution_count": 62,
   "metadata": {
    "ExecuteTime": {
     "end_time": "2020-05-27T22:58:18.635000Z",
     "start_time": "2020-05-27T22:58:14.606764Z"
    }
   },
   "outputs": [],
   "source": [
    "import torch\n",
    "if torch.cuda.is_available():\n",
    "    device = torch.device(\"cuda\")\n",
    "    model = model.to(device)\n",
    "else:\n",
    "    device = torch.device(\"cpu\")\n",
    "    model = model.to(device)"
   ]
  },
  {
   "cell_type": "code",
   "execution_count": 51,
   "metadata": {
    "ExecuteTime": {
     "end_time": "2020-05-27T22:55:46.726385Z",
     "start_time": "2020-05-27T22:55:46.720235Z"
    }
   },
   "outputs": [],
   "source": [
    "#[MASK] é o que queremos prever!\n",
    "frase_1 = \"O evento de ciência dos dados vai [MASK] hoje, no YouTube!\"\n",
    "frase_2 = \"Apareçam para conhecer a maior comunidade de dados do Brasil!\"\n",
    "frase_1_tokenizado = tokenizer.tokenize(frase_1)\n",
    "frase_2_tokenizado = tokenizer.tokenize(frase_2)"
   ]
  },
  {
   "cell_type": "code",
   "execution_count": 54,
   "metadata": {
    "ExecuteTime": {
     "end_time": "2020-05-27T22:56:18.494198Z",
     "start_time": "2020-05-27T22:56:18.490004Z"
    }
   },
   "outputs": [],
   "source": [
    "f1_token_ids = tokenizer.convert_tokens_to_ids(frase_1_tokenizado)\n",
    "f2_token_ids = tokenizer.convert_tokens_to_ids(frase_2_tokenizado)"
   ]
  },
  {
   "cell_type": "code",
   "execution_count": 57,
   "metadata": {
    "ExecuteTime": {
     "end_time": "2020-05-27T22:56:49.856587Z",
     "start_time": "2020-05-27T22:56:49.853353Z"
    }
   },
   "outputs": [],
   "source": [
    "input_ids = tokenizer.build_inputs_with_special_tokens(f1_token_ids, f2_token_ids)"
   ]
  },
  {
   "cell_type": "code",
   "execution_count": 24,
   "metadata": {
    "ExecuteTime": {
     "end_time": "2020-05-27T16:23:32.681526Z",
     "start_time": "2020-05-27T16:23:32.677750Z"
    }
   },
   "outputs": [],
   "source": [
    "ids_de_segmentos = tokenizer.create_token_type_ids_from_sequences(f1_token_ids, f2_token_ids)"
   ]
  },
  {
   "cell_type": "code",
   "execution_count": 34,
   "metadata": {
    "ExecuteTime": {
     "end_time": "2020-05-27T16:29:41.717111Z",
     "start_time": "2020-05-27T16:29:41.712199Z"
    }
   },
   "outputs": [
    {
     "data": {
      "text/plain": [
       "True"
      ]
     },
     "execution_count": 34,
     "metadata": {},
     "output_type": "execute_result"
    }
   ],
   "source": [
    "input_ids_tensor.shape == ids_de_segmentos_tensor.shape"
   ]
  },
  {
   "cell_type": "code",
   "execution_count": 63,
   "metadata": {
    "ExecuteTime": {
     "end_time": "2020-05-27T22:58:27.420243Z",
     "start_time": "2020-05-27T22:58:26.710306Z"
    }
   },
   "outputs": [],
   "source": [
    "input_ids_tensor = torch.tensor([input_ids]).to(device)\n",
    "ids_de_segmentos_tensor = torch.tensor([ids_de_segmentos]).to(device)\n",
    "with torch.no_grad():\n",
    "    output = model(input_ids_tensor, token_type_ids=ids_de_segmentos_tensor)"
   ]
  },
  {
   "cell_type": "code",
   "execution_count": 67,
   "metadata": {
    "ExecuteTime": {
     "end_time": "2020-05-27T22:59:06.622886Z",
     "start_time": "2020-05-27T22:59:06.604558Z"
    }
   },
   "outputs": [
    {
     "data": {
      "text/plain": [
       "tensor([-12.4136,  -9.6678, -11.9024,  ...,  -9.0210,  -8.4889,  -8.5451],\n",
       "       device='cuda:0')"
      ]
     },
     "execution_count": 67,
     "metadata": {},
     "output_type": "execute_result"
    }
   ],
   "source": [
    "output[0][0][2]"
   ]
  },
  {
   "cell_type": "code",
   "execution_count": 68,
   "metadata": {
    "ExecuteTime": {
     "end_time": "2020-05-27T22:59:20.673762Z",
     "start_time": "2020-05-27T22:59:20.667227Z"
    }
   },
   "outputs": [
    {
     "data": {
      "text/plain": [
       "'acontecer'"
      ]
     },
     "execution_count": 68,
     "metadata": {},
     "output_type": "execute_result"
    }
   ],
   "source": [
    "predicted_index = torch.argmax(output[0][0, 8]).item()\n",
    "tokenizer.convert_ids_to_tokens(predicted_index)"
   ]
  },
  {
   "cell_type": "code",
   "execution_count": 69,
   "metadata": {
    "ExecuteTime": {
     "end_time": "2020-05-27T22:59:42.252669Z",
     "start_time": "2020-05-27T22:59:42.249133Z"
    }
   },
   "outputs": [],
   "source": [
    "from transformers import BertForNextSentencePrediction"
   ]
  },
  {
   "cell_type": "code",
   "execution_count": 70,
   "metadata": {
    "ExecuteTime": {
     "end_time": "2020-05-27T22:59:47.965052Z",
     "start_time": "2020-05-27T22:59:42.984518Z"
    }
   },
   "outputs": [],
   "source": [
    "model = BertForNextSentencePrediction.from_pretrained(\"neuralmind/bert-base-portuguese-cased\").to(device)\n",
    "with torch.no_grad():\n",
    "    output = model(input_ids_tensor, token_type_ids=ids_de_segmentos_tensor)"
   ]
  },
  {
   "cell_type": "code",
   "execution_count": 72,
   "metadata": {
    "ExecuteTime": {
     "end_time": "2020-05-27T23:00:06.128415Z",
     "start_time": "2020-05-27T23:00:06.124290Z"
    }
   },
   "outputs": [
    {
     "data": {
      "text/plain": [
       "tensor(0, device='cuda:0')"
      ]
     },
     "execution_count": 72,
     "metadata": {},
     "output_type": "execute_result"
    }
   ],
   "source": [
    "torch.argmax(output[0])"
   ]
  },
  {
   "cell_type": "code",
   "execution_count": 50,
   "metadata": {
    "ExecuteTime": {
     "end_time": "2020-05-27T16:35:40.685929Z",
     "start_time": "2020-05-27T16:35:40.676044Z"
    }
   },
   "outputs": [
    {
     "data": {
      "text/plain": [
       "True"
      ]
     },
     "execution_count": 50,
     "metadata": {},
     "output_type": "execute_result"
    }
   ],
   "source": [
    "torch.argmax(output[0]).item() == 0"
   ]
  },
  {
   "cell_type": "code",
   "execution_count": null,
   "metadata": {},
   "outputs": [],
   "source": []
  }
 ],
 "metadata": {
  "kernelspec": {
   "display_name": "PyData",
   "language": "python",
   "name": "pydata"
  },
  "language_info": {
   "codemirror_mode": {
    "name": "ipython",
    "version": 3
   },
   "file_extension": ".py",
   "mimetype": "text/x-python",
   "name": "python",
   "nbconvert_exporter": "python",
   "pygments_lexer": "ipython3",
   "version": "3.8.2"
  },
  "toc": {
   "base_numbering": 1,
   "nav_menu": {},
   "number_sections": true,
   "sideBar": true,
   "skip_h1_title": false,
   "title_cell": "Table of Contents",
   "title_sidebar": "Contents",
   "toc_cell": false,
   "toc_position": {},
   "toc_section_display": true,
   "toc_window_display": false
  }
 },
 "nbformat": 4,
 "nbformat_minor": 4
}
