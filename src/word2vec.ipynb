{
 "cells": [
  {
   "cell_type": "code",
   "execution_count": 1,
   "metadata": {
    "ExecuteTime": {
     "end_time": "2020-05-26T23:29:38.111460Z",
     "start_time": "2020-05-26T23:29:20.516424Z"
    }
   },
   "outputs": [
    {
     "name": "stdout",
     "output_type": "stream",
     "text": [
      "Collecting gensim\n",
      "  Using cached gensim-3.8.3-cp38-cp38-manylinux1_x86_64.whl (24.2 MB)\n",
      "Collecting scipy>=0.18.1\n",
      "  Downloading scipy-1.4.1-cp38-cp38-manylinux1_x86_64.whl (26.0 MB)\n",
      "\u001b[K     |████████████████████████████████| 26.0 MB 8.3 MB/s eta 0:00:01\n",
      "\u001b[?25hProcessing /ssd/home/arthur/.cache/pip/wheels/7b/d5/3b/2814de5ed1204a33c1d234af73eabb9eae6c1bfba4cf481518/smart_open-2.0.0-py3-none-any.whl\n",
      "Requirement already satisfied, skipping upgrade: six>=1.5.0 in /ssd/home/arthur/miniconda3/envs/pydata/lib/python3.8/site-packages (from gensim) (1.15.0)\n",
      "Collecting numpy>=1.11.3\n",
      "  Downloading numpy-1.18.4-cp38-cp38-manylinux1_x86_64.whl (20.7 MB)\n",
      "\u001b[K     |████████████████████████████████| 20.7 MB 72.4 MB/s eta 0:00:01\n",
      "\u001b[?25hCollecting boto3\n",
      "  Downloading boto3-1.13.17.tar.gz (96 kB)\n",
      "\u001b[K     |████████████████████████████████| 96 kB 3.0 MB/s s eta 0:00:01\n",
      "\u001b[?25hCollecting requests\n",
      "  Using cached requests-2.23.0-py2.py3-none-any.whl (58 kB)\n",
      "Collecting boto\n",
      "  Using cached boto-2.49.0-py2.py3-none-any.whl (1.4 MB)\n",
      "Collecting botocore<1.17.0,>=1.16.17\n",
      "  Downloading botocore-1.16.17-py2.py3-none-any.whl (6.2 MB)\n",
      "\u001b[K     |████████████████████████████████| 6.2 MB 74.7 MB/s eta 0:00:01\n",
      "\u001b[?25hCollecting jmespath<1.0.0,>=0.7.1\n",
      "  Downloading jmespath-0.10.0-py2.py3-none-any.whl (24 kB)\n",
      "Collecting s3transfer<0.4.0,>=0.3.0\n",
      "  Using cached s3transfer-0.3.3-py2.py3-none-any.whl (69 kB)\n",
      "Requirement already satisfied, skipping upgrade: certifi>=2017.4.17 in /ssd/home/arthur/miniconda3/envs/pydata/lib/python3.8/site-packages (from requests->smart-open>=1.8.1->gensim) (2020.4.5.1)\n",
      "Collecting chardet<4,>=3.0.2\n",
      "  Using cached chardet-3.0.4-py2.py3-none-any.whl (133 kB)\n",
      "Collecting idna<3,>=2.5\n",
      "  Using cached idna-2.9-py2.py3-none-any.whl (58 kB)\n",
      "Collecting urllib3!=1.25.0,!=1.25.1,<1.26,>=1.21.1\n",
      "  Using cached urllib3-1.25.9-py2.py3-none-any.whl (126 kB)\n",
      "Requirement already satisfied, skipping upgrade: python-dateutil<3.0.0,>=2.1 in /ssd/home/arthur/miniconda3/envs/pydata/lib/python3.8/site-packages (from botocore<1.17.0,>=1.16.17->boto3->smart-open>=1.8.1->gensim) (2.8.1)\n",
      "Collecting docutils<0.16,>=0.10\n",
      "  Using cached docutils-0.15.2-py3-none-any.whl (547 kB)\n",
      "Building wheels for collected packages: boto3\n",
      "  Building wheel for boto3 (setup.py) ... \u001b[?25ldone\n",
      "\u001b[?25h  Created wheel for boto3: filename=boto3-1.13.17-py2.py3-none-any.whl size=127655 sha256=c46f32d2b7bfefa024142987f9110e01bed29d032ae301dc6b7f44f6de201f52\n",
      "  Stored in directory: /ssd/home/arthur/.cache/pip/wheels/46/8b/7e/e87fffa5234c8e764d0771f4a568e49a24049fcde028755f26\n",
      "Successfully built boto3\n",
      "Installing collected packages: numpy, scipy, urllib3, docutils, jmespath, botocore, s3transfer, boto3, chardet, idna, requests, boto, smart-open, gensim\n",
      "Successfully installed boto-2.49.0 boto3-1.13.17 botocore-1.16.17 chardet-3.0.4 docutils-0.15.2 gensim-3.8.3 idna-2.9 jmespath-0.10.0 numpy-1.18.4 requests-2.23.0 s3transfer-0.3.3 scipy-1.4.1 smart-open-2.0.0 urllib3-1.25.9\n"
     ]
    }
   ],
   "source": [
    "!wget http://143.107.183.175:22980/download.php?file=embeddings/word2vec/cbow_s300.zip\n",
    "!unzip download.php\\?file\\=embeddings%2Fword2vec%2Fcbow_s300.zip\n",
    "!pip install --upgrade gensim"
   ]
  },
  {
   "cell_type": "code",
   "execution_count": 3,
   "metadata": {
    "ExecuteTime": {
     "end_time": "2020-05-26T23:34:24.010155Z",
     "start_time": "2020-05-26T23:29:44.889955Z"
    }
   },
   "outputs": [],
   "source": [
    "from gensim.models import KeyedVectors\n",
    "model = KeyedVectors.load_word2vec_format(\"cbow_s300.txt\")"
   ]
  },
  {
   "cell_type": "code",
   "execution_count": 25,
   "metadata": {
    "ExecuteTime": {
     "end_time": "2020-05-27T22:48:07.487053Z",
     "start_time": "2020-05-27T22:48:07.432698Z"
    }
   },
   "outputs": [
    {
     "data": {
      "text/plain": [
       "[('calça', 0.524247407913208),\n",
       " ('barriga', 0.4888567626476288),\n",
       " ('faca-cipó', 0.47470563650131226),\n",
       " ('lapela', 0.4714048504829407),\n",
       " ('algibeira', 0.47098127007484436),\n",
       " ('cauda', 0.470503032207489),\n",
       " ('cueca', 0.46462517976760864),\n",
       " ('sobrecasaca', 0.4633861184120178),\n",
       " ('cabeça', 0.4582759737968445),\n",
       " ('blusa', 0.45774343609809875)]"
      ]
     },
     "execution_count": 25,
     "metadata": {},
     "output_type": "execute_result"
    }
   ],
   "source": [
    "model.most_similar(\"manga\")"
   ]
  },
  {
   "cell_type": "code",
   "execution_count": 13,
   "metadata": {
    "ExecuteTime": {
     "end_time": "2020-05-26T23:37:53.083931Z",
     "start_time": "2020-05-26T23:37:52.859985Z"
    },
    "collapsed": true
   },
   "outputs": [
    {
     "data": {
      "text/plain": [
       "[('japão', 0.7412911653518677),\n",
       " ('brasil.', 0.6550555229187012),\n",
       " ('pradã£o', 0.6525028347969055),\n",
       " ('haiti', 0.648073673248291),\n",
       " ('ocidente', 0.6387284994125366),\n",
       " ('trapichão', 0.6379075050354004),\n",
       " ('romildão', 0.6373966932296753),\n",
       " ('emtanto', 0.6351075172424316),\n",
       " ('romildã£o', 0.6259243488311768),\n",
       " ('beira-rio.', 0.6231665015220642)]"
      ]
     },
     "execution_count": 13,
     "metadata": {},
     "output_type": "execute_result"
    }
   ],
   "source": [
    "model.most_similar(\"brasil\")"
   ]
  },
  {
   "cell_type": "code",
   "execution_count": null,
   "metadata": {},
   "outputs": [],
   "source": []
  }
 ],
 "metadata": {
  "kernelspec": {
   "display_name": "PyData",
   "language": "python",
   "name": "pydata"
  },
  "language_info": {
   "codemirror_mode": {
    "name": "ipython",
    "version": 3
   },
   "file_extension": ".py",
   "mimetype": "text/x-python",
   "name": "python",
   "nbconvert_exporter": "python",
   "pygments_lexer": "ipython3",
   "version": "3.8.2"
  },
  "toc": {
   "base_numbering": 1,
   "nav_menu": {},
   "number_sections": true,
   "sideBar": true,
   "skip_h1_title": false,
   "title_cell": "Table of Contents",
   "title_sidebar": "Contents",
   "toc_cell": false,
   "toc_position": {},
   "toc_section_display": true,
   "toc_window_display": false
  }
 },
 "nbformat": 4,
 "nbformat_minor": 4
}
